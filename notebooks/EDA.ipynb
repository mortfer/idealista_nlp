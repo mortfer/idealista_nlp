{
 "cells": [
  {
   "cell_type": "code",
   "execution_count": 80,
   "metadata": {},
   "outputs": [
    {
     "data": {
      "text/html": [
       "<div>\n",
       "<style scoped>\n",
       "    .dataframe tbody tr th:only-of-type {\n",
       "        vertical-align: middle;\n",
       "    }\n",
       "\n",
       "    .dataframe tbody tr th {\n",
       "        vertical-align: top;\n",
       "    }\n",
       "\n",
       "    .dataframe thead th {\n",
       "        text-align: right;\n",
       "    }\n",
       "</style>\n",
       "<table border=\"1\" class=\"dataframe\">\n",
       "  <thead>\n",
       "    <tr style=\"text-align: right;\">\n",
       "      <th></th>\n",
       "      <th>ASSETID</th>\n",
       "      <th>TEXT</th>\n",
       "    </tr>\n",
       "  </thead>\n",
       "  <tbody>\n",
       "    <tr>\n",
       "      <th>1006</th>\n",
       "      <td>A1106311995746324999</td>\n",
       "      <td>\\\"DIRECTAMENTE PROPIETARIO (ABSTENERSE AGENCIAS). Loft de lujo apto para oficina-despacho o vivienda, situado en la plaza Cronos. Bien comunicado, a 5 minutos del metro Torre Arias. El loft está dividido en dos plantas; una inferior de 55 metros cuadrados con amplio salón y gran ventanal a la terraza, cocina con electrodoméstico abierta al salón, y un aseo con encimera de mármol. La parte superior, de 24 metros aproximadamente, consta de un dormitorio abierto con vestidor y cuarto de baño co...</td>\n",
       "    </tr>\n",
       "    <tr>\n",
       "      <th>307</th>\n",
       "      <td>A6985435799397153623</td>\n",
       "      <td>Venta de piso de 235m2, uso actual despachos, a reformar para vivienda, ideal inversores, precio de venta por debajo de tasación reciente y demostrable.\\nActualmente tiene 5 estancias como grandes despachos y 2 baños amplios más Hall de espera clientes.\\nMuy luminoso, exterior, Calefacción central y A\\\\A. Edificio con portero físico y ascensor. Excelente inversión.</td>\n",
       "    </tr>\n",
       "    <tr>\n",
       "      <th>448</th>\n",
       "      <td>A8773063623186973226</td>\n",
       "      <td>World Gestión Inmobiliaria Vende:\\n\\n\\\"MAGNIFICA OPORTUNIDAD\\\"\\n\\nExcelente apartamento a reformar en una 1º planta interior a patio de manzana, muy luminoso, cuenta con una terraza cubierta de 20 M2, actualmente se compone de un salón comedor, una cocina independiente, un cuarto de baño completo y un dormitorio con armario empotrado, posibilidades de plaza de garaje, la vivienda se encuentra a reformar con muchas posibilidades de reforma, cuenta con calefacción central.\\n\\nEl edificio se en...</td>\n",
       "    </tr>\n",
       "    <tr>\n",
       "      <th>1063</th>\n",
       "      <td>A15799020655646523322</td>\n",
       "      <td>REF: VV500J. Se vende esta preciosa vivienda en planta baja en el barrio de Patraix, con posibilidad de hasta 3 habitaciónes; tiene 2 baños, amplio salón-comedor, cocina office con salida a una terraza de 70 metros cuadrados y todo con calidades de primera al ser obra nueva. A lo anterior hay que agregar que la vivienda tiene aire frío/calor por splits. Se encuentra en uno de los barrios mas consolidados de la ciudad y cuenta con todos los servicios en los alrededores.\\n LLama ahora visita e...</td>\n",
       "    </tr>\n",
       "    <tr>\n",
       "      <th>1079</th>\n",
       "      <td>A6529017407678050351</td>\n",
       "      <td>SIN COMISION AL COMPRADOR!\\n\\nEn excelente ubicación del Poblenou, frente a los Jardines de Josep Trueta se encuentra esta bonita vivienda con muchas posibilidades por su distribución. Actualmente cuenta con salón comedor, dos dormitorios dobles, ambos exteriores y con salida al balcón, cocina equipada y baño completo, además tiene un pequeño cuarto trastero. Cuenta con A/A y calefacción por radiadores.\\n\\nUbicado en un 1º piso sin ascensor de una bonita finca de 1930. En el interior de la v...</td>\n",
       "    </tr>\n",
       "  </tbody>\n",
       "</table>\n",
       "</div>"
      ],
      "text/plain": [
       "                    ASSETID  \\\n",
       "1006   A1106311995746324999   \n",
       "307    A6985435799397153623   \n",
       "448    A8773063623186973226   \n",
       "1063  A15799020655646523322   \n",
       "1079   A6529017407678050351   \n",
       "\n",
       "                                                                                                                                                                                                                                                                                                                                                                                                                                                                                                                     TEXT  \n",
       "1006  \\\"DIRECTAMENTE PROPIETARIO (ABSTENERSE AGENCIAS). Loft de lujo apto para oficina-despacho o vivienda, situado en la plaza Cronos. Bien comunicado, a 5 minutos del metro Torre Arias. El loft está dividido en dos plantas; una inferior de 55 metros cuadrados con amplio salón y gran ventanal a la terraza, cocina con electrodoméstico abierta al salón, y un aseo con encimera de mármol. La parte superior, de 24 metros aproximadamente, consta de un dormitorio abierto con vestidor y cuarto de baño co...  \n",
       "307                                                                                                                                       Venta de piso de 235m2, uso actual despachos, a reformar para vivienda, ideal inversores, precio de venta por debajo de tasación reciente y demostrable.\\nActualmente tiene 5 estancias como grandes despachos y 2 baños amplios más Hall de espera clientes.\\nMuy luminoso, exterior, Calefacción central y A\\\\A. Edificio con portero físico y ascensor. Excelente inversión.  \n",
       "448   World Gestión Inmobiliaria Vende:\\n\\n\\\"MAGNIFICA OPORTUNIDAD\\\"\\n\\nExcelente apartamento a reformar en una 1º planta interior a patio de manzana, muy luminoso, cuenta con una terraza cubierta de 20 M2, actualmente se compone de un salón comedor, una cocina independiente, un cuarto de baño completo y un dormitorio con armario empotrado, posibilidades de plaza de garaje, la vivienda se encuentra a reformar con muchas posibilidades de reforma, cuenta con calefacción central.\\n\\nEl edificio se en...  \n",
       "1063  REF: VV500J. Se vende esta preciosa vivienda en planta baja en el barrio de Patraix, con posibilidad de hasta 3 habitaciónes; tiene 2 baños, amplio salón-comedor, cocina office con salida a una terraza de 70 metros cuadrados y todo con calidades de primera al ser obra nueva. A lo anterior hay que agregar que la vivienda tiene aire frío/calor por splits. Se encuentra en uno de los barrios mas consolidados de la ciudad y cuenta con todos los servicios en los alrededores.\\n LLama ahora visita e...  \n",
       "1079  SIN COMISION AL COMPRADOR!\\n\\nEn excelente ubicación del Poblenou, frente a los Jardines de Josep Trueta se encuentra esta bonita vivienda con muchas posibilidades por su distribución. Actualmente cuenta con salón comedor, dos dormitorios dobles, ambos exteriores y con salida al balcón, cocina equipada y baño completo, además tiene un pequeño cuarto trastero. Cuenta con A/A y calefacción por radiadores.\\n\\nUbicado en un 1º piso sin ascensor de una bonita finca de 1930. En el interior de la v...  "
      ]
     },
     "metadata": {},
     "output_type": "display_data"
    }
   ],
   "source": [
    "import pandas as pd\n",
    "import spacy\n",
    "\n",
    "pd.set_option('display.max_colwidth', 500)\n",
    "# Read CSV file\n",
    "df = pd.read_csv(\"data/comments-cleaned.csv\")\n",
    "\n",
    "# Display a sample like Jupyter Notebook\n",
    "from IPython.display import display\n",
    "\n",
    "display(df.sample(5))  # Show 5 random rows\n",
    "\n",
    "nlp = spacy.load('./models/model-best')"
   ]
  },
  {
   "cell_type": "code",
   "execution_count": 81,
   "metadata": {},
   "outputs": [
    {
     "name": "stdout",
     "output_type": "stream",
     "text": [
      "(1499, 2)\n"
     ]
    },
    {
     "data": {
      "text/plain": [
       "language\n",
       "es    1002\n",
       "Name: count, dtype: int64"
      ]
     },
     "execution_count": 81,
     "metadata": {},
     "output_type": "execute_result"
    }
   ],
   "source": [
    "df = pd.read_csv(\"data/comments-cleaned.csv\")\n",
    "print(df.shape)\n",
    "df = pd.read_csv(\"comments_postprocessed.csv\")\n",
    "df.language.value_counts()"
   ]
  },
  {
   "cell_type": "code",
   "execution_count": 2,
   "metadata": {},
   "outputs": [
    {
     "name": "stdout",
     "output_type": "stream",
     "text": [
      "['tok2vec', 'morphologizer', 'parser', 'senter', 'attribute_ruler', 'lemmatizer', 'ner']\n",
      "('AREA', 'CARACTERISTICAS', 'COMMERCIAL_NAME', 'CONTACT_PHONE', 'DISTANCE', 'MONEY', 'PRECIO', 'ROOM', 'STYLE', 'UBICACION')\n"
     ]
    }
   ],
   "source": [
    "print(nlp.pipe_names)\n",
    "print(nlp.get_pipe(\"ner\").labels)"
   ]
  },
  {
   "cell_type": "code",
   "execution_count": 3,
   "metadata": {},
   "outputs": [
    {
     "data": {
      "text/plain": [
       "('AREA',\n",
       " 'CARACTERISTICAS',\n",
       " 'COMMERCIAL_NAME',\n",
       " 'CONTACT_PHONE',\n",
       " 'DISTANCE',\n",
       " 'MONEY',\n",
       " 'PRECIO',\n",
       " 'ROOM',\n",
       " 'STYLE',\n",
       " 'UBICACION')"
      ]
     },
     "execution_count": 3,
     "metadata": {},
     "output_type": "execute_result"
    }
   ],
   "source": [
    "nlp.get_pipe(\"ner\").labels"
   ]
  },
  {
   "cell_type": "code",
   "execution_count": 82,
   "metadata": {},
   "outputs": [
    {
     "name": "stdout",
     "output_type": "stream",
     "text": [
      "\n",
      "Lemmas:\n",
      "Me -> yo|interesa -> interesar|un -> uno|ático -> ático|entre -> entre|60 -> 60|y -> y|90 -> 90|metros -> metro|cuadrados -> cuadrado|, -> ,|3 -> 3|dormitorios -> dormitorio|, -> ,|con -> con|un -> uno|presupuesto -> presupuesto|máximo -> máximo|de -> de|300 -> 300|mil -> mil|dólares -> dólares|. -> .|"
     ]
    }
   ],
   "source": [
    "\n",
    "doc = nlp('Me interesa un ático entre 60 y 90 metros cuadrados, 3 dormitorios, con un presupuesto máximo de 300 mil dólares.')\n",
    "\n",
    "# Lemmatization (show the lemma for each token)\n",
    "print(\"\\nLemmas:\")\n",
    "for token in doc:\n",
    "    print(f\"{token.text} -> {token.lemma_}\", end='|')"
   ]
  },
  {
   "cell_type": "code",
   "execution_count": 90,
   "metadata": {},
   "outputs": [
    {
     "name": "stdout",
     "output_type": "stream",
     "text": [
      "ANUNCIO: Áticos en Valencia con dos dormitorios\n",
      "Entities with label 'AREA': []\n",
      "Entities with label 'CARACTERISTICAS': []\n",
      "Entities with label 'COMMERCIAL_NAME': []\n",
      "Entities with label 'CONTACT_PHONE': []\n",
      "Entities with label 'DISTANCE': []\n",
      "Entities with label 'MONEY': []\n",
      "Entities with label 'PRECIO': []\n",
      "Entities with label 'ROOM': ['dos dormitorios']\n",
      "Entities with label 'STYLE': []\n",
      "Entities with label 'UBICACION': []\n",
      "ROOM: dos dormitorio\n"
     ]
    }
   ],
   "source": [
    "# Example list of listings\n",
    "random_listing = df.query(\"language =='es'\").sample(1)['TEXT'].tolist()[0]\n",
    "#random_listing = 'Piso en El Raval de Barcelona con calefacción por menos de 500000 euros'\n",
    "#random_listing = 'Piso en el Centro de Madrid cercano a estación de Metro con dos dormitorios y terraza de al menos 20 m2.'\n",
    "random_listing = 'Me interesa un ático entre 60 y 90 metros cuadrados, 3 habitaciones, con un presupuesto máximo de 300 mil dólares.'\n",
    "# random_listing = \"\"\"Piso de 2 dormitorios (antes 3) en Moratalaz. Es un tercer piso con altura de segundo.\n",
    "# Tiene suelos de parquet, baños y cocina reformados, ventanas de aluminio abatibles y está recién pintado. La calefacción y agua caliente es individual con caldera de gas natural.\n",
    "# Dispone de trastero comunitario.\n",
    "# La casa da a zona peatonal, luminosa y tranquila, sin ruidos. Fácil aparcamiento en los alrededores. Todos los servicios a mano (colegios, supermercados, parroquia).\n",
    "# Buena comunicación por metro (Artilleros, línea 9), autobús (líneas 20, 30, 71, 100, 8, 63, 145 y N8) y coche (A3). Posibilidad de venderlo amueblado.\n",
    "# random_listing = \"\"\"Buskpiso ofrece este coqueto piso para entrar a vivir con una reforma de menos de doce años. \n",
    "random_listing = \"Áticos en Valencia con dos dormitorios\"\n",
    "# El salón dispone de grandes ventanales que lo inundan de luz por las mañanas. Las dos habitaciones son amplias y luminosas, dando a gran patio interior, ideal para un perfecto descanso. Ambas disponen de armarios empotrados de hechura reciente. La cocina, amueblada en un color blanco que nunca pasa de moda y bonito suelo de gres. El agradable cuarto de baño dispone de ducha de hidromasaje para relajar los músculos antes de ir al trabajo.\n",
    "\n",
    "# El piso dispone de suelo de parquet, ventanas con carpintería de climalit, terraza, caldera de menos de un año, aire acondicionado en las habitaciones y el salón.\n",
    "\n",
    "# Tiene alarma instalada.\n",
    "\n",
    "# Totalmente amueblado y listo para entrar a vivir.\n",
    "\n",
    "# Llámanos para hacer una visita.\"\"\"\n",
    "\n",
    "\n",
    "# Interesante oportunidad en la zona, directamente de particular. Abstenerse agencias inmobiliarias.\"\"\"\n",
    "print(f'ANUNCIO: {random_listing}')\n",
    "# Process and analyze each listing\n",
    "\n",
    "\n",
    "\n",
    "# Obtener el attribute_ruler\n",
    "ruler = nlp.get_pipe(\"attribute_ruler\")\n",
    "\n",
    "# Definir patrones\n",
    "patterns = [\n",
    "    [{\"LOWER\": \"metros\"}, {\"LOWER\": \"cuadrados\"}],\n",
    "    [{\"LOWER\": \"m2\"}],\n",
    "    [{\"LOWER\": \"m²\"}],\n",
    "    [{\"LOWER\": \"m^2\"}]\n",
    "]\n",
    "\n",
    "# Normalizar a \"m²\"\n",
    "attrs = {\"LEMMA\": \"m2\"}\n",
    "\n",
    "ruler.add(patterns=patterns, attrs=attrs)\n",
    "\n",
    "# Process the listing\n",
    "doc = nlp(random_listing)\n",
    "# Tokenization (show all tokens)\n",
    "# print(\"Tokens:\")\n",
    "# for token in doc:\n",
    "#     print(token.text)\n",
    "\n",
    "# Lemmatization (show the lemma for each token)\n",
    "# print(\"\\nLemmas:\")\n",
    "# for token in doc:\n",
    "#     print(f\"{token.text} -> {token.lemma_}\", end='|')\n",
    "    \n",
    "# print(\"Named Entities:\")\n",
    "# for ent in doc.ents:\n",
    "#     print(f\"{ent.text} -> {ent.label_}\", end='|')\n",
    "\n",
    "# Function to filter entities by a specific label\n",
    "def filter_entities(doc, label_to_keep):\n",
    "    \"\"\"Filters entities to keep only those with the specified label.\"\"\"\n",
    "    return [ent.text for ent in doc.ents if ent.label_ == label_to_keep]\n",
    "\n",
    "for label_to_keep in nlp.get_pipe(\"ner\").labels:\n",
    "    filtered_entities = filter_entities(doc, label_to_keep)\n",
    "    print(f\"Entities with label '{label_to_keep}': {filtered_entities}\") \n",
    "    \n",
    "# Crear una lista de entidades lematizadas\n",
    "normalized_entities = []\n",
    "for ent in doc.ents:\n",
    "    lemmatized_text = \" \".join([token.lemma_ for token in ent])\n",
    "    normalized_entities.append((ent.label_, lemmatized_text))\n",
    "\n",
    "# Ver resultado\n",
    "for label, lemma in normalized_entities:\n",
    "    print(f\"{label}: {lemma}\")\n",
    "# Dependency parsing (show dependency relations)\n",
    "# print(\"\\nDependency Parsing:\")\n",
    "# for token in doc:\n",
    "#     print(f\"{token.text} ({token.dep_}) -> {token.head.text}\", end='|')\n",
    "\n"
   ]
  },
  {
   "cell_type": "code",
   "execution_count": 87,
   "metadata": {},
   "outputs": [
    {
     "data": {
      "text/plain": [
       "['terraza']"
      ]
     },
     "execution_count": 87,
     "metadata": {},
     "output_type": "execute_result"
    }
   ],
   "source": [
    "def filter_caracteristicas(doc, caracteristicas_validas):\n",
    "    \"\"\"Filtra CARACTERISTICAS según un conjunto de válidas, usando lemas.\"\"\"\n",
    "    filtered = []\n",
    "\n",
    "    for ent in doc.ents:\n",
    "        \n",
    "        if ent.label_ != \"CARACTERISTICAS\":\n",
    "            \n",
    "            continue\n",
    "\n",
    "        lemma_text = \" \".join([token.lemma_.lower() for token in ent])\n",
    "        for val in caracteristicas_validas:\n",
    "            if val in lemma_text:\n",
    "                filtered.append(val)\n",
    "                break\n",
    "\n",
    "    return list(dict.fromkeys(filtered))\n",
    "filter_caracteristicas(doc, {\"piscina\", \"terraza\"})"
   ]
  },
  {
   "cell_type": "code",
   "execution_count": 76,
   "metadata": {},
   "outputs": [
    {
     "name": "stdout",
     "output_type": "stream",
     "text": [
      "dos\n"
     ]
    },
    {
     "data": {
      "text/plain": [
       "(2, 1, ['dos habitaciones', 'cocina', 'cuarto de baño'])"
      ]
     },
     "execution_count": 76,
     "metadata": {},
     "output_type": "execute_result"
    }
   ],
   "source": [
    "extract_room_info(random_listing, nlp)"
   ]
  },
  {
   "cell_type": "code",
   "execution_count": 39,
   "metadata": {},
   "outputs": [
    {
     "name": "stdout",
     "output_type": "stream",
     "text": [
      "['m2']\n"
     ]
    }
   ],
   "source": [
    "piso_related = [token for token in doc if token.head.text == \"terraza\" and token.dep_ in (\"nmod\", \"amod\", \"nummod\", \"conj\")]\n",
    "print([token.text for token in piso_related])  # ['habitaciones', 'terraza', 'centro']\n"
   ]
  },
  {
   "cell_type": "code",
   "execution_count": 46,
   "metadata": {},
   "outputs": [],
   "source": [
    "import spacy\n",
    "\n",
    "NUMEROS_ES = {\n",
    "    \"uno\": 1, \"una\": 1, \"un\":1,\n",
    "    \"dos\": 2,\n",
    "    \"tres\": 3,\n",
    "    \"cuatro\": 4,\n",
    "    \"cinco\": 5,\n",
    "    \"seis\": 6,\n",
    "    \"siete\": 7,\n",
    "    \"ocho\": 8,\n",
    "    \"nueve\": 9,\n",
    "    \"diez\": 10,\n",
    "    \"once\": 11,\n",
    "    \"doce\": 12\n",
    "}\n",
    "\n",
    "def extract_filters(text):\n",
    "    \"\"\"Extrae filtros de habitaciones y baños usando NER, lematización y fallback a 1.\"\"\"\n",
    "    doc = nlp(text)\n",
    "    filters = {\"habitaciones\": None, \"baños\": None}\n",
    "\n",
    "    for ent in doc.ents:\n",
    "        if ent.label_ == \"ROOM\":\n",
    "            lemmas = [token.lemma_.lower() for token in ent]\n",
    "            text_norm = \" \".join(lemmas)\n",
    "\n",
    "            # Buscar número\n",
    "            num = None\n",
    "            for token in ent:\n",
    "                token_text = token.text.lower()\n",
    "                if token.like_num:\n",
    "                    try:\n",
    "                        num = int(token.text)\n",
    "                        break\n",
    "                    except ValueError:\n",
    "                        pass\n",
    "                elif token_text in NUMEROS_ES:\n",
    "                    num = NUMEROS_ES[token_text]\n",
    "                    break\n",
    "\n",
    "            if num is None:\n",
    "                num = 1  # Asumimos 1 por defecto\n",
    "\n",
    "            if \"habitación\" in text_norm or \"dormitorio\" in text_norm:\n",
    "                filters[\"habitaciones\"] = num\n",
    "            elif \"baño\" in text_norm:\n",
    "                filters[\"baños\"] = num\n",
    "\n",
    "    return filters\n"
   ]
  },
  {
   "cell_type": "code",
   "execution_count": 47,
   "metadata": {},
   "outputs": [
    {
     "name": "stdout",
     "output_type": "stream",
     "text": [
      "{'habitaciones': 1, 'baños': 1}\n"
     ]
    }
   ],
   "source": [
    "\n",
    "print(extract_filters(random_listing))"
   ]
  }
 ],
 "metadata": {
  "kernelspec": {
   "display_name": "idealista_nlp",
   "language": "python",
   "name": "python3"
  },
  "language_info": {
   "codemirror_mode": {
    "name": "ipython",
    "version": 3
   },
   "file_extension": ".py",
   "mimetype": "text/x-python",
   "name": "python",
   "nbconvert_exporter": "python",
   "pygments_lexer": "ipython3",
   "version": "3.9.12"
  }
 },
 "nbformat": 4,
 "nbformat_minor": 2
}
